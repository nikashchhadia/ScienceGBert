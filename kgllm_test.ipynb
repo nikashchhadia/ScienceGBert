{
 "cells": [
  {
   "cell_type": "code",
   "execution_count": null,
   "metadata": {},
   "outputs": [],
   "source": [
    "from SPARQLWrapper import SPARQLWrapper, JSON\n",
    "\n",
    "def fetch_wikidata_info(entity_label):\n",
    "    sparql = SPARQLWrapper(\"https://query.wikidata.org/sparql\")\n",
    "    query = f\"\"\"\n",
    "    SELECT ?entity ?entityLabel ?description WHERE {{\n",
    "      ?entity ?label \"{entity_label}\"@en.\n",
    "      ?entity rdfs:label ?entityLabel.\n",
    "      ?entity schema:description ?description.\n",
    "      FILTER (lang(?entityLabel) = \"en\" && lang(?description) = \"en\")\n",
    "    }} LIMIT 1\n",
    "    \"\"\"\n",
    "    sparql.setQuery(query)\n",
    "    sparql.setReturnFormat(JSON)\n",
    "    results = sparql.query().convert()\n",
    "\n",
    "    if results['results']['bindings']:\n",
    "        result = results['results']['bindings'][0]\n",
    "        entity = result['entity']['value']\n",
    "        entity_label = result['entityLabel']['value']\n",
    "        description = result['description']['value']\n",
    "        return entity_label, description\n",
    "    else:\n",
    "        return None, None\n",
    "\n",
    "entity_label, description = fetch_wikidata_info(\"Albert Einstein\")\n",
    "print(f\"Label: {entity_label}, Description: {description}\")"
   ]
  },
  {
   "cell_type": "code",
   "execution_count": null,
   "metadata": {},
   "outputs": [],
   "source": [
    "from transformers import GPT2LMHeadModel, GPT2Tokenizer\n",
    "\n",
    "# Load pre-trained model and tokenizer\n",
    "model_name = \"gpt2\"\n",
    "tokenizer = GPT2Tokenizer.from_pretrained(model_name)\n",
    "model = GPT2LMHeadModel.from_pretrained(model_name)\n",
    "\n",
    "def generate_response_with_kg(input_text, entity_info):\n",
    "    entity_label, description = entity_info\n",
    "\n",
    "    # Incorporate the knowledge graph information into the prompt\n",
    "    if entity_label and description:\n",
    "        knowledge_prompt = f\"{entity_label} is known for: {description}. \"\n",
    "    else:\n",
    "        knowledge_prompt = \"\"\n",
    "\n",
    "    # Combine the knowledge prompt with the input text\n",
    "    combined_prompt = knowledge_prompt + input_text\n",
    "\n",
    "    # Tokenize and generate the response\n",
    "    inputs = tokenizer.encode(combined_prompt, return_tensors='pt')\n",
    "    outputs = model.generate(inputs, max_length=150, num_return_sequences=1)\n",
    "\n",
    "    # Decode the output\n",
    "    response = tokenizer.decode(outputs[0], skip_special_tokens=True)\n",
    "    return response\n",
    "\n",
    "# Example usage\n",
    "input_text = \"Tell me something interesting about Albert Einstein.\"\n",
    "entity_info = fetch_wikidata_info(\"Albert Einstein\")\n",
    "response = generate_response_with_kg(input_text, entity_info)\n",
    "print(response)"
   ]
  }
 ],
 "metadata": {
  "language_info": {
   "name": "python"
  }
 },
 "nbformat": 4,
 "nbformat_minor": 2
}
